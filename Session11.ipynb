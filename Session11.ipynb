{
 "cells": [
  {
   "cell_type": "markdown",
   "metadata": {},
   "source": [
    "# If Else Elif"
   ]
  },
  {
   "cell_type": "markdown",
   "metadata": {},
   "source": [
    "### Indentation"
   ]
  },
  {
   "cell_type": "code",
   "execution_count": 1,
   "metadata": {},
   "outputs": [],
   "source": [
    "a = 5\n",
    "b = 6"
   ]
  },
  {
   "cell_type": "code",
   "execution_count": 2,
   "metadata": {},
   "outputs": [
    {
     "ename": "IndentationError",
     "evalue": "unexpected indent (<ipython-input-2-ed4c1ef31ff4>, line 2)",
     "output_type": "error",
     "traceback": [
      "\u001b[1;36m  File \u001b[1;32m\"<ipython-input-2-ed4c1ef31ff4>\"\u001b[1;36m, line \u001b[1;32m2\u001b[0m\n\u001b[1;33m    b=6\u001b[0m\n\u001b[1;37m    ^\u001b[0m\n\u001b[1;31mIndentationError\u001b[0m\u001b[1;31m:\u001b[0m unexpected indent\n"
     ]
    }
   ],
   "source": [
    "a = 5\n",
    "    b=6"
   ]
  },
  {
   "cell_type": "markdown",
   "metadata": {},
   "source": [
    "### Statements"
   ]
  },
  {
   "cell_type": "code",
   "execution_count": 3,
   "metadata": {},
   "outputs": [
    {
     "data": {
      "text/plain": [
       "True"
      ]
     },
     "execution_count": 3,
     "metadata": {},
     "output_type": "execute_result"
    }
   ],
   "source": [
    "2 > 1"
   ]
  },
  {
   "cell_type": "code",
   "execution_count": 4,
   "metadata": {},
   "outputs": [
    {
     "data": {
      "text/plain": [
       "False"
      ]
     },
     "execution_count": 4,
     "metadata": {},
     "output_type": "execute_result"
    }
   ],
   "source": [
    "3 > 5"
   ]
  },
  {
   "cell_type": "code",
   "execution_count": 5,
   "metadata": {},
   "outputs": [
    {
     "name": "stdout",
     "output_type": "stream",
     "text": [
      "positive\n"
     ]
    }
   ],
   "source": [
    "if 1 > 0:\n",
    "    print('positive')"
   ]
  },
  {
   "cell_type": "code",
   "execution_count": 6,
   "metadata": {},
   "outputs": [
    {
     "ename": "IndentationError",
     "evalue": "expected an indented block (<ipython-input-6-64a98debcbad>, line 2)",
     "output_type": "error",
     "traceback": [
      "\u001b[1;36m  File \u001b[1;32m\"<ipython-input-6-64a98debcbad>\"\u001b[1;36m, line \u001b[1;32m2\u001b[0m\n\u001b[1;33m    print('positive')\u001b[0m\n\u001b[1;37m    ^\u001b[0m\n\u001b[1;31mIndentationError\u001b[0m\u001b[1;31m:\u001b[0m expected an indented block\n"
     ]
    }
   ],
   "source": [
    "if 1 > 0:\n",
    "print('positive')"
   ]
  },
  {
   "cell_type": "markdown",
   "metadata": {},
   "source": [
    "#### Example1"
   ]
  },
  {
   "cell_type": "code",
   "execution_count": 9,
   "metadata": {},
   "outputs": [
    {
     "name": "stdout",
     "output_type": "stream",
     "text": [
      "5 is a positive number\n"
     ]
    }
   ],
   "source": [
    "num = 5\n",
    "if num > 0:\n",
    "    print(f'{num} is a positive number')"
   ]
  },
  {
   "cell_type": "markdown",
   "metadata": {},
   "source": [
    "#### Example2"
   ]
  },
  {
   "cell_type": "code",
   "execution_count": 10,
   "metadata": {},
   "outputs": [],
   "source": [
    "num = -1\n",
    "if num > 0:\n",
    "    print(\"positive\")"
   ]
  },
  {
   "cell_type": "markdown",
   "metadata": {},
   "source": [
    "#### Example3"
   ]
  },
  {
   "cell_type": "code",
   "execution_count": 11,
   "metadata": {},
   "outputs": [
    {
     "name": "stdout",
     "output_type": "stream",
     "text": [
      "Positive\n"
     ]
    }
   ],
   "source": [
    "num = 7\n",
    "if num > 0:\n",
    "    print('Positive')\n",
    "else:\n",
    "    print('Negative')\n",
    "    "
   ]
  },
  {
   "cell_type": "markdown",
   "metadata": {},
   "source": [
    "#### Example4"
   ]
  },
  {
   "cell_type": "code",
   "execution_count": 16,
   "metadata": {},
   "outputs": [
    {
     "name": "stdout",
     "output_type": "stream",
     "text": [
      "Enter a number:-1\n",
      "-1 is Negative\n"
     ]
    }
   ],
   "source": [
    "num = int(input('Enter a number:'))\n",
    "if num > 0:\n",
    "    print(f'{num} is Positive')\n",
    "else:\n",
    "    print(f'{num} is Negative')\n",
    "    "
   ]
  },
  {
   "cell_type": "code",
   "execution_count": 17,
   "metadata": {},
   "outputs": [
    {
     "data": {
      "text/plain": [
       "int"
      ]
     },
     "execution_count": 17,
     "metadata": {},
     "output_type": "execute_result"
    }
   ],
   "source": [
    "type(num)"
   ]
  },
  {
   "cell_type": "markdown",
   "metadata": {},
   "source": [
    "#### Example5"
   ]
  },
  {
   "cell_type": "code",
   "execution_count": 20,
   "metadata": {},
   "outputs": [
    {
     "name": "stdout",
     "output_type": "stream",
     "text": [
      "Enter a number:-5\n",
      "-5 is Negative\n"
     ]
    }
   ],
   "source": [
    "num = int(input('Enter a number:'))\n",
    "\n",
    "if num > 0:\n",
    "    print(f'{num} is Positive')\n",
    "elif num < 0:\n",
    "    print(f'{num} is Negative')\n",
    "else:\n",
    "    print('ZERO')\n",
    "    "
   ]
  },
  {
   "cell_type": "markdown",
   "metadata": {},
   "source": [
    "#### Example6"
   ]
  },
  {
   "cell_type": "code",
   "execution_count": 22,
   "metadata": {},
   "outputs": [
    {
     "name": "stdout",
     "output_type": "stream",
     "text": [
      "20 is equal to 20\n"
     ]
    }
   ],
   "source": [
    "number1 = 20\n",
    "number2 = 20\n",
    "\n",
    "if number1 > number2:\n",
    "    print(f'{number1} is Greater than {number2}')\n",
    "elif number1 < number2:\n",
    "    print(f'{number2} is Greater than {number1}')\n",
    "else:\n",
    "    print(f'{number1} is equal to {number2}')\n",
    "    \n"
   ]
  },
  {
   "cell_type": "markdown",
   "metadata": {},
   "source": [
    "#### Example7"
   ]
  },
  {
   "cell_type": "code",
   "execution_count": 25,
   "metadata": {},
   "outputs": [
    {
     "name": "stdout",
     "output_type": "stream",
     "text": [
      "WARM\n"
     ]
    }
   ],
   "source": [
    "tempreture = 35\n",
    "if tempreture > 25:\n",
    "    print('WARM')"
   ]
  },
  {
   "cell_type": "markdown",
   "metadata": {},
   "source": [
    "## Short Hand If else"
   ]
  },
  {
   "cell_type": "code",
   "execution_count": 26,
   "metadata": {},
   "outputs": [
    {
     "name": "stdout",
     "output_type": "stream",
     "text": [
      "b is greater than a\n"
     ]
    }
   ],
   "source": [
    "a = 2\n",
    "b = 11\n",
    "if b>a : print('b is greater than a')"
   ]
  },
  {
   "cell_type": "code",
   "execution_count": 27,
   "metadata": {},
   "outputs": [
    {
     "name": "stdout",
     "output_type": "stream",
     "text": [
      "B\n"
     ]
    }
   ],
   "source": [
    "a = 2\n",
    "b = 33\n",
    "print('A') if a>b else print('B')"
   ]
  },
  {
   "cell_type": "markdown",
   "metadata": {},
   "source": [
    "## Multiple Condition"
   ]
  },
  {
   "cell_type": "markdown",
   "metadata": {},
   "source": [
    "### Logical Operators"
   ]
  },
  {
   "cell_type": "markdown",
   "metadata": {},
   "source": [
    "\n",
    "If we want to join two or more conditions in the same if statement,\n",
    "we need a logical operator. There are three possible logical operators in Python:\n",
    "\n",
    "and – Returns True if both statements are true.\n",
    "\n",
    "or – Returns True if at least one of the statements is true.\n",
    "\n",
    "not – Reverses the Boolean value; returns False if the statement is true, and True if the statement is false."
   ]
  },
  {
   "cell_type": "code",
   "execution_count": 28,
   "metadata": {},
   "outputs": [
    {
     "data": {
      "text/plain": [
       "True"
      ]
     },
     "execution_count": 28,
     "metadata": {},
     "output_type": "execute_result"
    }
   ],
   "source": [
    "True and True"
   ]
  },
  {
   "cell_type": "code",
   "execution_count": 29,
   "metadata": {},
   "outputs": [
    {
     "data": {
      "text/plain": [
       "False"
      ]
     },
     "execution_count": 29,
     "metadata": {},
     "output_type": "execute_result"
    }
   ],
   "source": [
    "True and False"
   ]
  },
  {
   "cell_type": "code",
   "execution_count": 30,
   "metadata": {},
   "outputs": [
    {
     "data": {
      "text/plain": [
       "True"
      ]
     },
     "execution_count": 30,
     "metadata": {},
     "output_type": "execute_result"
    }
   ],
   "source": [
    "True or False"
   ]
  },
  {
   "cell_type": "code",
   "execution_count": 31,
   "metadata": {},
   "outputs": [
    {
     "data": {
      "text/plain": [
       "False"
      ]
     },
     "execution_count": 31,
     "metadata": {},
     "output_type": "execute_result"
    }
   ],
   "source": [
    "not True"
   ]
  },
  {
   "cell_type": "markdown",
   "metadata": {},
   "source": [
    "#### Example8"
   ]
  },
  {
   "cell_type": "code",
   "execution_count": 32,
   "metadata": {},
   "outputs": [
    {
     "name": "stdout",
     "output_type": "stream",
     "text": [
      "Hot and Humid\n"
     ]
    }
   ],
   "source": [
    "temperature = 35\n",
    "humidity = 90\n",
    "\n",
    "if temperature > 30 and humidity > 85:\n",
    "    print('Hot and Humid')"
   ]
  },
  {
   "cell_type": "markdown",
   "metadata": {},
   "source": [
    "#### Example9"
   ]
  },
  {
   "cell_type": "code",
   "execution_count": 33,
   "metadata": {},
   "outputs": [
    {
     "name": "stdout",
     "output_type": "stream",
     "text": [
      "Hot, Humid or both\n"
     ]
    }
   ],
   "source": [
    "temperature = 35\n",
    "humidity = 90\n",
    "\n",
    "if temperature > 30 or humidity > 85:\n",
    "    print('Hot, Humid or both')"
   ]
  },
  {
   "cell_type": "markdown",
   "metadata": {},
   "source": [
    "#### Example10"
   ]
  },
  {
   "cell_type": "code",
   "execution_count": 35,
   "metadata": {},
   "outputs": [
    {
     "name": "stdout",
     "output_type": "stream",
     "text": [
      "Enter your age:6\n",
      "Sorry! You are Not allowed. Bye\n"
     ]
    }
   ],
   "source": [
    "age = int(input('Enter your age:'))\n",
    "if age>=8 and age<=12:\n",
    "    print('You are allowed! Welcome')\n",
    "else:\n",
    "    print('Sorry! You are Not allowed. Bye')"
   ]
  },
  {
   "cell_type": "markdown",
   "metadata": {},
   "source": [
    "## Nested If"
   ]
  },
  {
   "cell_type": "markdown",
   "metadata": {},
   "source": [
    "#### Example11"
   ]
  },
  {
   "cell_type": "code",
   "execution_count": 37,
   "metadata": {},
   "outputs": [
    {
     "name": "stdout",
     "output_type": "stream",
     "text": [
      "You're 18 or older. Welcome to adulthood!\n",
      "Happy driving!\n"
     ]
    }
   ],
   "source": [
    "age = 19\n",
    "hasLicense = True\n",
    "\n",
    "if age>=18:\n",
    "    print(\"You're 18 or older. Welcome to adulthood!\")\n",
    "    if hasLicense:\n",
    "        print('Happy driving!')\n",
    "    else:\n",
    "        print('No License')\n",
    "else:\n",
    "    print(\"You're not 18 or above!\")\n",
    "        \n",
    "        \n",
    "    \n",
    "    "
   ]
  },
  {
   "cell_type": "markdown",
   "metadata": {},
   "source": [
    "#### Example12"
   ]
  },
  {
   "cell_type": "code",
   "execution_count": 38,
   "metadata": {},
   "outputs": [
    {
     "name": "stdout",
     "output_type": "stream",
     "text": [
      " Please Enter Your Age Here:  22\n",
      " You are Eligible to Work \n",
      " Please fill in your details and apply\n"
     ]
    }
   ],
   "source": [
    "age = int(input(\" Please Enter Your Age Here:  \"))\n",
    "if age < 18:\n",
    "    print(\" You are not Eligible to Work \")\n",
    "else:\n",
    "    if age >= 18 and age <= 60:\n",
    "        print(\" You are Eligible to Work \")\n",
    "        print(\" Please fill in your details and apply\")\n",
    "    else:\n",
    "        print(\" You are too old to work as per the Government rules\")\n"
   ]
  },
  {
   "cell_type": "markdown",
   "metadata": {},
   "source": [
    "## Loops: For, While"
   ]
  },
  {
   "cell_type": "markdown",
   "metadata": {},
   "source": [
    "### For Loops"
   ]
  },
  {
   "cell_type": "code",
   "execution_count": 40,
   "metadata": {},
   "outputs": [
    {
     "data": {
      "text/plain": [
       "[0, 1, 4, 9, 16, 25, 36, 49, 64, 81]"
      ]
     },
     "execution_count": 40,
     "metadata": {},
     "output_type": "execute_result"
    }
   ],
   "source": [
    "[n**2 for n in range(10)]"
   ]
  },
  {
   "cell_type": "code",
   "execution_count": 44,
   "metadata": {},
   "outputs": [
    {
     "data": {
      "text/plain": [
       "[0, 1, 2, 3, 4, 5, 6, 7, 8, 9]"
      ]
     },
     "execution_count": 44,
     "metadata": {},
     "output_type": "execute_result"
    }
   ],
   "source": [
    "list(range(10))"
   ]
  },
  {
   "cell_type": "code",
   "execution_count": 45,
   "metadata": {},
   "outputs": [
    {
     "name": "stdout",
     "output_type": "stream",
     "text": [
      "0\n",
      "1\n",
      "2\n",
      "3\n",
      "4\n",
      "5\n",
      "6\n",
      "7\n",
      "8\n",
      "9\n"
     ]
    }
   ],
   "source": [
    "for adad in range(10): #adad = 0, 1\n",
    "    print(adad)\n",
    "    "
   ]
  },
  {
   "cell_type": "code",
   "execution_count": 46,
   "metadata": {},
   "outputs": [
    {
     "name": "stdout",
     "output_type": "stream",
     "text": [
      "0\n",
      "1\n",
      "2\n",
      "3\n",
      "4\n",
      "5\n",
      "6\n",
      "7\n",
      "8\n",
      "9\n",
      "Out of loop\n"
     ]
    }
   ],
   "source": [
    "for adad in range(10): #adad = 0, 1\n",
    "    print(adad)\n",
    "print('Out of loop')"
   ]
  },
  {
   "cell_type": "markdown",
   "metadata": {},
   "source": [
    "#### Example13"
   ]
  },
  {
   "cell_type": "code",
   "execution_count": 47,
   "metadata": {},
   "outputs": [
    {
     "name": "stdout",
     "output_type": "stream",
     "text": [
      "2\n",
      "4\n",
      "12\n",
      "22\n",
      "100\n"
     ]
    }
   ],
   "source": [
    "list1 = [1,2,4,5,12,21,22,100]\n",
    "for adad in list1:\n",
    "    if adad%2 == 0:\n",
    "        print(adad)\n",
    "    "
   ]
  },
  {
   "cell_type": "markdown",
   "metadata": {},
   "source": [
    "#### Example14"
   ]
  },
  {
   "cell_type": "code",
   "execution_count": 48,
   "metadata": {},
   "outputs": [
    {
     "name": "stdout",
     "output_type": "stream",
     "text": [
      "A\n",
      "I\n",
      " \n",
      "L\n",
      "a\n",
      "n\n",
      "d\n"
     ]
    }
   ],
   "source": [
    "my_string = 'AI Land'\n",
    "for letter in my_string:\n",
    "    print(letter)"
   ]
  },
  {
   "cell_type": "markdown",
   "metadata": {},
   "source": [
    "### Break and Continue"
   ]
  },
  {
   "cell_type": "code",
   "execution_count": 50,
   "metadata": {},
   "outputs": [
    {
     "name": "stdout",
     "output_type": "stream",
     "text": [
      "0\n",
      "1\n",
      "2\n",
      "3\n",
      "4\n"
     ]
    }
   ],
   "source": [
    "for i in range(10):\n",
    "    if i == 5:\n",
    "        break\n",
    "    print(i)"
   ]
  },
  {
   "cell_type": "code",
   "execution_count": 51,
   "metadata": {},
   "outputs": [
    {
     "name": "stdout",
     "output_type": "stream",
     "text": [
      "0\n",
      "1\n",
      "2\n",
      "3\n",
      "4\n",
      "The End\n"
     ]
    }
   ],
   "source": [
    "for i in range(10):\n",
    "    if i == 5:\n",
    "        break\n",
    "    print(i)\n",
    "print('The End')"
   ]
  },
  {
   "cell_type": "code",
   "execution_count": 52,
   "metadata": {},
   "outputs": [
    {
     "name": "stdout",
     "output_type": "stream",
     "text": [
      "0\n",
      "1\n",
      "2\n",
      "4\n"
     ]
    }
   ],
   "source": [
    "for i in range(0, 5):\n",
    "    if i == 3:\n",
    "        continue\n",
    "    print(i)"
   ]
  },
  {
   "cell_type": "markdown",
   "metadata": {},
   "source": [
    "#### Example15"
   ]
  },
  {
   "cell_type": "code",
   "execution_count": 57,
   "metadata": {},
   "outputs": [
    {
     "name": "stdout",
     "output_type": "stream",
     "text": [
      "only\n",
      "true\n",
      "wisdom\n",
      "is\n",
      "in\n",
      "know\n"
     ]
    }
   ],
   "source": [
    "#practice: print the even words\n",
    "string1 = 'The only true wisdom is in knowing you know nothing'\n",
    "for kalame in string1.split():\n",
    "    if len(kalame) % 2 == 0:\n",
    "        print(kalame)\n",
    "    \n",
    "    \n",
    "    "
   ]
  },
  {
   "cell_type": "code",
   "execution_count": 54,
   "metadata": {},
   "outputs": [
    {
     "data": {
      "text/plain": [
       "['The',\n",
       " 'only',\n",
       " 'true',\n",
       " 'wisdom',\n",
       " 'is',\n",
       " 'in',\n",
       " 'knowing',\n",
       " 'you',\n",
       " 'know',\n",
       " 'nothing']"
      ]
     },
     "execution_count": 54,
     "metadata": {},
     "output_type": "execute_result"
    }
   ],
   "source": [
    "string1.split()"
   ]
  },
  {
   "cell_type": "markdown",
   "metadata": {},
   "source": [
    "#### Example16"
   ]
  },
  {
   "cell_type": "code",
   "execution_count": 59,
   "metadata": {},
   "outputs": [
    {
     "name": "stdout",
     "output_type": "stream",
     "text": [
      "FIZZ 3\n",
      "BUZZ 5\n",
      "FIZZ 6\n",
      "FIZZ 9\n",
      "BUZZ 10\n",
      "FIZZ 12\n",
      "FIZZBUZZ 15\n",
      "FIZZ 18\n",
      "BUZZ 20\n",
      "FIZZ 21\n",
      "FIZZ 24\n",
      "BUZZ 25\n",
      "FIZZ 27\n",
      "FIZZBUZZ 30\n",
      "FIZZ 33\n",
      "BUZZ 35\n",
      "FIZZ 36\n",
      "FIZZ 39\n",
      "BUZZ 40\n",
      "FIZZ 42\n",
      "FIZZBUZZ 45\n",
      "FIZZ 48\n"
     ]
    }
   ],
   "source": [
    "#practice:\n",
    "# print numbers from 1 to 50\n",
    "# if the number is a multiple of 3 print FIZZ\n",
    "# if the number is a multiple of 5 print BUZZ\n",
    "# if the number is a multiple of 3 and 5 print FIZZBUZZ\n",
    "\n",
    "for i in range(1,50):\n",
    "    if i%3 == 0 and i%5 == 0:\n",
    "        print(\"FIZZBUZZ\", i)\n",
    "    elif i%3 == 0:\n",
    "        print('FIZZ',i)\n",
    "    elif i%5 == 0:\n",
    "        print('BUZZ',i)\n",
    "\n",
    "\n"
   ]
  },
  {
   "cell_type": "markdown",
   "metadata": {},
   "source": [
    "# Exercises"
   ]
  },
  {
   "cell_type": "markdown",
   "metadata": {},
   "source": [
    "#### Exercise1"
   ]
  },
  {
   "cell_type": "code",
   "execution_count": 61,
   "metadata": {},
   "outputs": [],
   "source": [
    "#practice ?\n",
    "# output:\n",
    "# 1 \n",
    "# 1 2 \n",
    "# 1 2 3 \n",
    "# 1 2 3 4 \n",
    "# 1 2 3 4 5"
   ]
  },
  {
   "cell_type": "code",
   "execution_count": 62,
   "metadata": {},
   "outputs": [
    {
     "name": "stdout",
     "output_type": "stream",
     "text": [
      "\n",
      "\n",
      "1 \n",
      "1 2 \n",
      "1 2 3 \n",
      "1 2 3 4 \n",
      "1 2 3 4 5 \n"
     ]
    }
   ],
   "source": [
    "for i in range(7):\n",
    "    for j in range(1,i):\n",
    "        print(j,end=' ')\n",
    "    print('')"
   ]
  },
  {
   "cell_type": "markdown",
   "metadata": {},
   "source": [
    "#### Exercise2"
   ]
  },
  {
   "cell_type": "code",
   "execution_count": 63,
   "metadata": {},
   "outputs": [],
   "source": [
    "#practice ?\n",
    "# For example, if the user entered 10 the output should be 55 (1+2+3+4+5+6+7+8+9+10)\n",
    "# Expected Output:\n",
    "# Enter a number: 10\n",
    "# Sum is:  55"
   ]
  },
  {
   "cell_type": "code",
   "execution_count": null,
   "metadata": {},
   "outputs": [],
   "source": [
    "my_sum = 0\n",
    "my_input = int(input('Enter a number: '))\n",
    "for i in range(1,my_input+1):\n",
    "    my_sum = my_sum + i\n",
    "print('Sum is:',my_sum)"
   ]
  },
  {
   "cell_type": "markdown",
   "metadata": {},
   "source": [
    "#### Exercise3"
   ]
  },
  {
   "cell_type": "markdown",
   "metadata": {},
   "source": [
    "<!-- #practice: Print downward Half-Pyramid Pattern with Star (asterisk)\n",
    "* * * * *  \n",
    "* * * *  \n",
    "* * *  \n",
    "* *  \n",
    "* -->"
   ]
  },
  {
   "cell_type": "code",
   "execution_count": 64,
   "metadata": {},
   "outputs": [],
   "source": [
    "# practice: Print downward Half-Pyramid Pattern with Star (asterisk)\n",
    "# * * * * *  \n",
    "# * * * *  \n",
    "# * * *  \n",
    "# * *  \n",
    "# *"
   ]
  },
  {
   "cell_type": "code",
   "execution_count": 65,
   "metadata": {},
   "outputs": [
    {
     "name": "stdout",
     "output_type": "stream",
     "text": [
      "* * * * *  \n",
      "* * * *  \n",
      "* * *  \n",
      "* *  \n",
      "*  \n",
      " \n"
     ]
    }
   ],
   "source": [
    "for i in range(6,0,-1):\n",
    "    for j in range(0, i-1):\n",
    "        print('*', end=' ')\n",
    "    print(' ')"
   ]
  },
  {
   "cell_type": "markdown",
   "metadata": {},
   "source": [
    "#### Exercise4"
   ]
  },
  {
   "cell_type": "code",
   "execution_count": 78,
   "metadata": {},
   "outputs": [],
   "source": [
    "#practice:\n",
    "# Print the following pattern\n",
    "# 1 \n",
    "# 2 2 \n",
    "# 3 3 3 \n",
    "# 4 4 4 4 \n",
    "# 5 5 5 5 5"
   ]
  },
  {
   "cell_type": "code",
   "execution_count": 82,
   "metadata": {},
   "outputs": [
    {
     "name": "stdout",
     "output_type": "stream",
     "text": [
      " \n",
      "1  \n",
      "2 2  \n",
      "3 3 3  \n",
      "4 4 4 4  \n",
      "5 5 5 5 5  \n"
     ]
    }
   ],
   "source": [
    "for i in range(6):\n",
    "    for j in range(i):\n",
    "        print(i, end=' ')\n",
    "    print(' ')"
   ]
  },
  {
   "cell_type": "markdown",
   "metadata": {},
   "source": [
    "#### Exercise5"
   ]
  },
  {
   "cell_type": "code",
   "execution_count": 71,
   "metadata": {},
   "outputs": [],
   "source": [
    "#Enter a number and show if the number is prime or Not. Prime numbers: 2, 3, 5, 7, 11, 13, 17, 19, 23 ...\n",
    "\n",
    "# چاپ اعداد اول: اعداد اول به عدد هایی میگیم که فقط به خودشون و  عدد یک بخش پذیرن "
   ]
  },
  {
   "cell_type": "code",
   "execution_count": 6,
   "metadata": {},
   "outputs": [
    {
     "name": "stdout",
     "output_type": "stream",
     "text": [
      "Enter a number: 7\n",
      "7 is Prime\n"
     ]
    }
   ],
   "source": [
    "#method1\n",
    "num = int(input(\"Enter a number: \"))\n",
    "\n",
    "flag = False\n",
    "if num > 1:\n",
    "    for i in range(2, num):\n",
    "        if (num % i) == 0:\n",
    "            flag = True\n",
    "            break\n",
    "if flag:\n",
    "    print(f'{num} is Not prime!')\n",
    "else:\n",
    "    print(f'{num} is Prime')"
   ]
  },
  {
   "cell_type": "code",
   "execution_count": 17,
   "metadata": {},
   "outputs": [
    {
     "name": "stdout",
     "output_type": "stream",
     "text": [
      "Enter a number:9\n",
      "Not Prime\n",
      "3 * 3 is 9\n"
     ]
    }
   ],
   "source": [
    "#method2\n",
    "\n",
    "num = int(input('Enter a number:'))\n",
    "if num>1:\n",
    "    for i in range(2,num):\n",
    "        if num%i == 0:\n",
    "            print('Not Prime')\n",
    "            print(i,\"*\",num // i,'is', num)\n",
    "            break\n",
    "    else:\n",
    "        print('Prime')\n",
    "else:\n",
    "    print('Not Prime')"
   ]
  },
  {
   "cell_type": "markdown",
   "metadata": {},
   "source": [
    "#### Exercise6"
   ]
  },
  {
   "cell_type": "code",
   "execution_count": 23,
   "metadata": {},
   "outputs": [
    {
     "name": "stdout",
     "output_type": "stream",
     "text": [
      "[2, 3, 5, 7, 11, 13, 17, 19, 23, 29, 31, 37, 41, 43, 47, 53, 59, 61, 67, 71, 73, 79, 83, 89, 97]\n"
     ]
    }
   ],
   "source": [
    "#practice: print prime numbers between 2 and 100\n",
    "\n",
    "list1 = []\n",
    "for i in range(2,101):\n",
    "    for j in range(2,i):\n",
    "        if i%j == 0:\n",
    "            break\n",
    "    else:\n",
    "        list1.append(i)\n",
    "            \n",
    "print(list1)\n"
   ]
  },
  {
   "cell_type": "markdown",
   "metadata": {},
   "source": [
    "#### Exercise7"
   ]
  },
  {
   "cell_type": "code",
   "execution_count": 68,
   "metadata": {},
   "outputs": [],
   "source": [
    "#practice:\n",
    "# Write a program to check if the given number is a palindrome number.\n",
    "# A palindrome number is a number that is same after reverse. For example 545, is the palindrome numbers\n",
    "#Output:\n",
    "# original number 121\n",
    "# Yes. given number is palindrome number\n",
    "\n",
    "# original number 125\n",
    "# No. given number is not palindrome number\n",
    "\n",
    "# اعداد آینه ای به اعدادی میگیم که اگه برعکسش کنیم همون میشه بازم"
   ]
  },
  {
   "cell_type": "code",
   "execution_count": 18,
   "metadata": {},
   "outputs": [
    {
     "name": "stdout",
     "output_type": "stream",
     "text": [
      "Enter a number: 4432\n",
      "4432 is NOT Palindrome!\n"
     ]
    }
   ],
   "source": [
    "num = int(input('Enter a number: '))\n",
    "temp = num\n",
    "reverse_num = 0\n",
    "while num > 0:\n",
    "    reminder = num % 10\n",
    "    reverse_num = reverse_num * 10 + reminder\n",
    "    num = num // 10\n",
    "if temp == reverse_num:\n",
    "    print(f'{temp} is Palindrome!')\n",
    "else:\n",
    "    print(f'{temp} is NOT Palindrome!')\n"
   ]
  },
  {
   "cell_type": "markdown",
   "metadata": {},
   "source": [
    "#### Exercise8"
   ]
  },
  {
   "cell_type": "code",
   "execution_count": 69,
   "metadata": {},
   "outputs": [],
   "source": [
    "# practice:\n",
    "\n",
    "# * \n",
    "# * * \n",
    "# * * * \n",
    "# * * * * \n",
    "# * * * * * \n",
    "# * * * * \n",
    "# * * * \n",
    "# * * \n",
    "# *"
   ]
  },
  {
   "cell_type": "code",
   "execution_count": 58,
   "metadata": {},
   "outputs": [
    {
     "name": "stdout",
     "output_type": "stream",
     "text": [
      "* \n",
      "* * \n",
      "* * * \n",
      "* * * * \n",
      "* * * * * \n",
      "* * * * \n",
      "* * * \n",
      "* * \n",
      "* \n"
     ]
    }
   ],
   "source": [
    "for i in range(1,6):\n",
    "    for j in range(i):\n",
    "        print('*', end=' ')\n",
    "    print('')\n",
    "for i in range(4,0,-1):\n",
    "    for j in range(i):\n",
    "        print('*', end=' ')\n",
    "    print('')"
   ]
  },
  {
   "cell_type": "markdown",
   "metadata": {},
   "source": [
    "Have a great time!"
   ]
  }
 ],
 "metadata": {
  "kernelspec": {
   "display_name": "Python 3",
   "language": "python",
   "name": "python3"
  },
  "language_info": {
   "codemirror_mode": {
    "name": "ipython",
    "version": 3
   },
   "file_extension": ".py",
   "mimetype": "text/x-python",
   "name": "python",
   "nbconvert_exporter": "python",
   "pygments_lexer": "ipython3",
   "version": "3.8.5"
  }
 },
 "nbformat": 4,
 "nbformat_minor": 4
}
